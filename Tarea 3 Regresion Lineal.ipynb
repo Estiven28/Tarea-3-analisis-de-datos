{
 "cells": [
  {
   "cell_type": "markdown",
   "id": "0cc20ac1-d3c6-42e7-9a28-c57d934e817e",
   "metadata": {},
   "source": [
    "## **UNAD** \n",
    "## **Tarea 3** - **Analisis de datos.**\n",
    "## **Algoritmos de Aprendizaje Supervisado.**\n",
    "## Grupo Colaborativo 202016908A_1704. "
   ]
  },
  {
   "cell_type": "markdown",
   "id": "5f41e8ae-5c09-43b8-95a6-0219c6c57cff",
   "metadata": {},
   "source": [
    "**Regresión Lineal Dataset Carros.**"
   ]
  },
  {
   "cell_type": "markdown",
   "id": "bccfd03a-4a07-442f-95d2-b9195d2467c1",
   "metadata": {},
   "source": [
    "## Pasos de la Actividad:\n",
    "1. Realizar un análisis exploratorio de los datos para identificar\n",
    "relaciones entre variables, valores atípicos, tendencias, etc.\n",
    "2. Preprocesar los datos limpiándolos, tratando valores faltantes y\n",
    "transformándolos según sea necesario.\n",
    "3. Seleccionar las características más relevantes para entrenar el \n",
    "modelo utilizando selección de características.\n",
    "4. Dividir el dataset en Train y Test para evaluar correctamente el modelo.\n",
    "5. Entrenar el modelo configurando los diferentes hiperparámetros.\n",
    "6. Evaluar el desempeño del modelo en el conjunto de Test con métricas como precisión, recall, F1-score, etc.\n",
    "7. Realizar las diferentes gráficas que permitan visualizar los resultados del modelo.\n",
    "8. Interpretar, analizar y documentar los resultados obtenidos.\n",
    "9.  Crear una cuenta en GitHub y cargar los códigos de los modelos\n",
    "diseñados https://github.com/"
   ]
  },
  {
   "cell_type": "markdown",
   "id": "447714e5-8397-4266-80f8-fb541cea5675",
   "metadata": {},
   "source": [
    "# 1. Realizar un análisis exploratorio de los datos para identificar relaciones entre variables, valores atípicos, tendencias, etc."
   ]
  },
  {
   "cell_type": "code",
   "execution_count": 124,
   "id": "53f85218-9f3b-4c69-95a3-8452e5da3486",
   "metadata": {},
   "outputs": [],
   "source": [
    "#Cargue de librerias.  \n",
    "\n",
    "import pandas as pd \n",
    "import numpy as np \n",
    "import seaborn as sns\n",
    "import matplotlib.pyplot as plt\n",
    "\n",
    "from sklearn.model_selection import train_test_split\n",
    "from sklearn.linear_model import LinearRegression\n",
    "from sklearn.metrics import classification_report, confusion_matrix"
   ]
  },
  {
   "cell_type": "code",
   "execution_count": 136,
   "id": "c4d7d9b0-6a2d-4fa9-bd35-4a97a6506cff",
   "metadata": {},
   "outputs": [],
   "source": [
    "Datos_Carros = pd.read_csv('C:/Users/sopor/OneDrive - Universidad Nacional Abierta y a Distancia/ANALISIS DE DATOS/Entrega 3/Dataset/Carros.csv', encoding='latin1')"
   ]
  },
  {
   "cell_type": "code",
   "execution_count": 140,
   "id": "8b0a4cc8-fb49-4f37-9b48-11e323f837c9",
   "metadata": {},
   "outputs": [
    {
     "data": {
      "text/html": [
       "<div>\n",
       "<style scoped>\n",
       "    .dataframe tbody tr th:only-of-type {\n",
       "        vertical-align: middle;\n",
       "    }\n",
       "\n",
       "    .dataframe tbody tr th {\n",
       "        vertical-align: top;\n",
       "    }\n",
       "\n",
       "    .dataframe thead th {\n",
       "        text-align: right;\n",
       "    }\n",
       "</style>\n",
       "<table border=\"1\" class=\"dataframe\">\n",
       "  <thead>\n",
       "    <tr style=\"text-align: right;\">\n",
       "      <th></th>\n",
       "      <th>Marca</th>\n",
       "      <th>Año</th>\n",
       "      <th>Precio_Venta</th>\n",
       "      <th>Precio_Actual</th>\n",
       "      <th>Kilometraje</th>\n",
       "      <th>Tipo_Combustible</th>\n",
       "      <th>Tipo_Vendedor</th>\n",
       "      <th>Transmision</th>\n",
       "      <th>Dueño</th>\n",
       "    </tr>\n",
       "  </thead>\n",
       "  <tbody>\n",
       "    <tr>\n",
       "      <th>0</th>\n",
       "      <td>ritz</td>\n",
       "      <td>2014</td>\n",
       "      <td>3.35</td>\n",
       "      <td>5.59</td>\n",
       "      <td>27000</td>\n",
       "      <td>Petrol</td>\n",
       "      <td>Dealer</td>\n",
       "      <td>Manual</td>\n",
       "      <td>0</td>\n",
       "    </tr>\n",
       "    <tr>\n",
       "      <th>1</th>\n",
       "      <td>sx4</td>\n",
       "      <td>2013</td>\n",
       "      <td>4.75</td>\n",
       "      <td>9.54</td>\n",
       "      <td>43000</td>\n",
       "      <td>Diesel</td>\n",
       "      <td>Dealer</td>\n",
       "      <td>Manual</td>\n",
       "      <td>0</td>\n",
       "    </tr>\n",
       "    <tr>\n",
       "      <th>2</th>\n",
       "      <td>ciaz</td>\n",
       "      <td>2017</td>\n",
       "      <td>7.25</td>\n",
       "      <td>9.85</td>\n",
       "      <td>6900</td>\n",
       "      <td>Petrol</td>\n",
       "      <td>Dealer</td>\n",
       "      <td>Manual</td>\n",
       "      <td>0</td>\n",
       "    </tr>\n",
       "    <tr>\n",
       "      <th>3</th>\n",
       "      <td>wagon r</td>\n",
       "      <td>2011</td>\n",
       "      <td>2.85</td>\n",
       "      <td>4.15</td>\n",
       "      <td>5200</td>\n",
       "      <td>Petrol</td>\n",
       "      <td>Dealer</td>\n",
       "      <td>Manual</td>\n",
       "      <td>0</td>\n",
       "    </tr>\n",
       "    <tr>\n",
       "      <th>4</th>\n",
       "      <td>swift</td>\n",
       "      <td>2014</td>\n",
       "      <td>4.60</td>\n",
       "      <td>6.87</td>\n",
       "      <td>42450</td>\n",
       "      <td>Diesel</td>\n",
       "      <td>Dealer</td>\n",
       "      <td>Manual</td>\n",
       "      <td>0</td>\n",
       "    </tr>\n",
       "    <tr>\n",
       "      <th>...</th>\n",
       "      <td>...</td>\n",
       "      <td>...</td>\n",
       "      <td>...</td>\n",
       "      <td>...</td>\n",
       "      <td>...</td>\n",
       "      <td>...</td>\n",
       "      <td>...</td>\n",
       "      <td>...</td>\n",
       "      <td>...</td>\n",
       "    </tr>\n",
       "    <tr>\n",
       "      <th>296</th>\n",
       "      <td>city</td>\n",
       "      <td>2016</td>\n",
       "      <td>9.50</td>\n",
       "      <td>11.60</td>\n",
       "      <td>33988</td>\n",
       "      <td>Diesel</td>\n",
       "      <td>Dealer</td>\n",
       "      <td>Manual</td>\n",
       "      <td>0</td>\n",
       "    </tr>\n",
       "    <tr>\n",
       "      <th>297</th>\n",
       "      <td>brio</td>\n",
       "      <td>2015</td>\n",
       "      <td>4.00</td>\n",
       "      <td>5.90</td>\n",
       "      <td>60000</td>\n",
       "      <td>Petrol</td>\n",
       "      <td>Dealer</td>\n",
       "      <td>Manual</td>\n",
       "      <td>0</td>\n",
       "    </tr>\n",
       "    <tr>\n",
       "      <th>298</th>\n",
       "      <td>city</td>\n",
       "      <td>2009</td>\n",
       "      <td>3.35</td>\n",
       "      <td>11.00</td>\n",
       "      <td>87934</td>\n",
       "      <td>Petrol</td>\n",
       "      <td>Dealer</td>\n",
       "      <td>Manual</td>\n",
       "      <td>0</td>\n",
       "    </tr>\n",
       "    <tr>\n",
       "      <th>299</th>\n",
       "      <td>city</td>\n",
       "      <td>2017</td>\n",
       "      <td>11.50</td>\n",
       "      <td>12.50</td>\n",
       "      <td>9000</td>\n",
       "      <td>Diesel</td>\n",
       "      <td>Dealer</td>\n",
       "      <td>Manual</td>\n",
       "      <td>0</td>\n",
       "    </tr>\n",
       "    <tr>\n",
       "      <th>300</th>\n",
       "      <td>brio</td>\n",
       "      <td>2016</td>\n",
       "      <td>5.30</td>\n",
       "      <td>5.90</td>\n",
       "      <td>5464</td>\n",
       "      <td>Petrol</td>\n",
       "      <td>Dealer</td>\n",
       "      <td>Manual</td>\n",
       "      <td>0</td>\n",
       "    </tr>\n",
       "  </tbody>\n",
       "</table>\n",
       "<p>301 rows × 9 columns</p>\n",
       "</div>"
      ],
      "text/plain": [
       "       Marca   Año  Precio_Venta  Precio_Actual  Kilometraje Tipo_Combustible  \\\n",
       "0       ritz  2014          3.35           5.59        27000           Petrol   \n",
       "1        sx4  2013          4.75           9.54        43000           Diesel   \n",
       "2       ciaz  2017          7.25           9.85         6900           Petrol   \n",
       "3    wagon r  2011          2.85           4.15         5200           Petrol   \n",
       "4      swift  2014          4.60           6.87        42450           Diesel   \n",
       "..       ...   ...           ...            ...          ...              ...   \n",
       "296     city  2016          9.50          11.60        33988           Diesel   \n",
       "297     brio  2015          4.00           5.90        60000           Petrol   \n",
       "298     city  2009          3.35          11.00        87934           Petrol   \n",
       "299     city  2017         11.50          12.50         9000           Diesel   \n",
       "300     brio  2016          5.30           5.90         5464           Petrol   \n",
       "\n",
       "    Tipo_Vendedor Transmision  Dueño  \n",
       "0          Dealer      Manual      0  \n",
       "1          Dealer      Manual      0  \n",
       "2          Dealer      Manual      0  \n",
       "3          Dealer      Manual      0  \n",
       "4          Dealer      Manual      0  \n",
       "..            ...         ...    ...  \n",
       "296        Dealer      Manual      0  \n",
       "297        Dealer      Manual      0  \n",
       "298        Dealer      Manual      0  \n",
       "299        Dealer      Manual      0  \n",
       "300        Dealer      Manual      0  \n",
       "\n",
       "[301 rows x 9 columns]"
      ]
     },
     "execution_count": 140,
     "metadata": {},
     "output_type": "execute_result"
    }
   ],
   "source": [
    "Datos_Carros.head(303)"
   ]
  },
  {
   "cell_type": "code",
   "execution_count": 142,
   "id": "f193de75-98d7-4d47-95f6-0e543d37a3e8",
   "metadata": {},
   "outputs": [
    {
     "data": {
      "text/plain": [
       "Text(0.5, 1.0, 'Identificación de los Datos Faltantes y Atipicos Para Datos_Carros.')"
      ]
     },
     "execution_count": 142,
     "metadata": {},
     "output_type": "execute_result"
    },
    {
     "data": {
      "image/png": "[encoded data removed]",
      "text/plain": [
       "<Figure size 700x400 with 1 Axes>"
      ]
     },
     "metadata": {},
     "output_type": "display_data"
    }
   ],
   "source": [
    "#Datos Faltantes y Atipicos Datos Enfermedades Cardiacas. \n",
    "plt.figure(figsize=(7, 4))\n",
    "sns.boxplot(x=Datos_Carros['Año'])\n",
    "plt.title('Identificación de los Datos Faltantes y Atipicos Para Datos_Carros.', fontsize=11)"
   ]
  },
  {
   "cell_type": "code",
   "execution_count": 146,
   "id": "7510848e-275e-4bc0-a9fe-3392c507f7b9",
   "metadata": {},
   "outputs": [
    {
     "name": "stdout",
     "output_type": "stream",
     "text": [
      "Numero de Registros con cero en Marca del Carro:  0\n",
      "Numero de Registros con cero en Año:  0\n",
      "Numero de Registros con cero en Precio Venta:  0\n",
      "Numero de Registros con cero en Precio Actual:  0\n",
      "Numero de Registros con cero en Kilometraje:  0\n",
      "Numero de Registros con cero en Tipo de Kilometraje:  0\n",
      "Numero de Registros con cero en Tipo de Vendedor:  0\n",
      "Numero de Registros con cero en Transmision:  0\n",
      "Numero de Registros con cero en Dueño:  290\n"
     ]
    }
   ],
   "source": [
    "#Revision de Datos Faltantes. \n",
    "\n",
    "print(\"Numero de Registros con cero en Marca del Carro: \", Datos_Carros['Marca'].isin([0]).sum())\n",
    "print(\"Numero de Registros con cero en Año: \", Datos_Carros['Año'].isin([0]).sum())\n",
    "print(\"Numero de Registros con cero en Precio Venta: \", Datos_Carros['Precio_Venta'].isin([0]).sum())\n",
    "print(\"Numero de Registros con cero en Precio Actual: \", Datos_Carros['Precio_Actual'].isin([0]).sum())\n",
    "print(\"Numero de Registros con cero en Kilometraje: \", Datos_Carros['Kilometraje'].isin([0]).sum())\n",
    "print(\"Numero de Registros con cero en Tipo de Kilometraje: \", Datos_Carros['Tipo_Combustible'].isin([0]).sum())\n",
    "print(\"Numero de Registros con cero en Tipo de Vendedor: \", Datos_Carros['Tipo_Vendedor'].isin([0]).sum())\n",
    "print(\"Numero de Registros con cero en Transmision: \", Datos_Carros['Transmision'].isin([0]).sum())\n",
    "print(\"Numero de Registros con cero en Dueño: \", Datos_Carros['Dueño'].isin([0]).sum())"
   ]
  },
  {
   "cell_type": "code",
   "execution_count": 148,
   "id": "2753e2b9-1e19-4bdf-8431-84f623eb7572",
   "metadata": {},
   "outputs": [
    {
     "data": {
      "text/plain": [
       "Text(0.5, 1.0, 'Identificación de Datos Atipicos.')"
      ]
     },
     "execution_count": 148,
     "metadata": {},
     "output_type": "execute_result"
    },
    {
     "data": {
      "image/png": "[encoded data removed]",
      "text/plain": [
       "<Figure size 700x400 with 1 Axes>"
      ]
     },
     "metadata": {},
     "output_type": "display_data"
    }
   ],
   "source": [
    "#Datos Atipicos.  \n",
    "plt.figure(figsize=(7,4))\n",
    "sns.boxplot(x=Datos_Carros['Año'])\n",
    "plt.title('Identificación de Datos Atipicos.',fontsize=12)"
   ]
  },
  {
   "cell_type": "code",
   "execution_count": 150,
   "id": "16dc78fd-c702-44a0-974b-b1e555962266",
   "metadata": {},
   "outputs": [
    {
     "name": "stdout",
     "output_type": "stream",
     "text": [
      "<class 'pandas.core.frame.DataFrame'>\n",
      "RangeIndex: 301 entries, 0 to 300\n",
      "Data columns (total 9 columns):\n",
      " #   Column            Non-Null Count  Dtype  \n",
      "---  ------            --------------  -----  \n",
      " 0   Marca             301 non-null    object \n",
      " 1   Año               301 non-null    int64  \n",
      " 2   Precio_Venta      301 non-null    float64\n",
      " 3   Precio_Actual     301 non-null    float64\n",
      " 4   Kilometraje       301 non-null    int64  \n",
      " 5   Tipo_Combustible  301 non-null    object \n",
      " 6   Tipo_Vendedor     301 non-null    object \n",
      " 7   Transmision       301 non-null    object \n",
      " 8   Dueño             301 non-null    int64  \n",
      "dtypes: float64(2), int64(3), object(4)\n",
      "memory usage: 21.3+ KB\n"
     ]
    }
   ],
   "source": [
    "Datos_Carros.info()"
   ]
  },
  {
   "cell_type": "markdown",
   "id": "590fa3e3-022d-485b-ad63-78fa42ccefde",
   "metadata": {},
   "source": [
    "# 3. Seleccionar las características más relevantes para entrenar el modelo utilizando selección de características."
   ]
  },
  {
   "cell_type": "markdown",
   "id": "612ed245-1e0d-4b2d-84d0-9258c4bbc556",
   "metadata": {},
   "source": [
    "Caracteristicas de Interes: \n",
    "* Modelos de los Carros (Año).\n",
    "* Dueños de los carros."
   ]
  },
  {
   "cell_type": "markdown",
   "id": "f106fc73-d63e-4a61-865c-6beb7549196b",
   "metadata": {},
   "source": [
    "**Modelos de los Carros(Año).**"
   ]
  },
  {
   "cell_type": "code",
   "execution_count": 154,
   "id": "88b1788b-a1da-4410-a47f-5ecbe5c42707",
   "metadata": {},
   "outputs": [
    {
     "data": {
      "text/plain": [
       "Año\n",
       "2015    61\n",
       "2016    50\n",
       "2014    38\n",
       "2017    35\n",
       "2013    33\n",
       "2012    23\n",
       "2011    19\n",
       "2010    15\n",
       "2008     7\n",
       "2009     6\n",
       "2006     4\n",
       "2005     4\n",
       "2003     2\n",
       "2007     2\n",
       "2018     1\n",
       "2004     1\n",
       "Name: count, dtype: int64"
      ]
     },
     "execution_count": 154,
     "metadata": {},
     "output_type": "execute_result"
    }
   ],
   "source": [
    "Datos_Carros['Año'].value_counts()"
   ]
  },
  {
   "cell_type": "code",
   "execution_count": 156,
   "id": "b2e3b239-3ff1-4da0-8128-1a2350c361cb",
   "metadata": {},
   "outputs": [
    {
     "data": {
      "text/html": [
       "<div>\n",
       "<style scoped>\n",
       "    .dataframe tbody tr th:only-of-type {\n",
       "        vertical-align: middle;\n",
       "    }\n",
       "\n",
       "    .dataframe tbody tr th {\n",
       "        vertical-align: top;\n",
       "    }\n",
       "\n",
       "    .dataframe thead th {\n",
       "        text-align: right;\n",
       "    }\n",
       "</style>\n",
       "<table border=\"1\" class=\"dataframe\">\n",
       "  <thead>\n",
       "    <tr style=\"text-align: right;\">\n",
       "      <th></th>\n",
       "      <th>Dueño</th>\n",
       "    </tr>\n",
       "  </thead>\n",
       "  <tbody>\n",
       "    <tr>\n",
       "      <th>0</th>\n",
       "      <td>0</td>\n",
       "    </tr>\n",
       "    <tr>\n",
       "      <th>1</th>\n",
       "      <td>0</td>\n",
       "    </tr>\n",
       "    <tr>\n",
       "      <th>2</th>\n",
       "      <td>0</td>\n",
       "    </tr>\n",
       "    <tr>\n",
       "      <th>3</th>\n",
       "      <td>0</td>\n",
       "    </tr>\n",
       "    <tr>\n",
       "      <th>4</th>\n",
       "      <td>0</td>\n",
       "    </tr>\n",
       "    <tr>\n",
       "      <th>...</th>\n",
       "      <td>...</td>\n",
       "    </tr>\n",
       "    <tr>\n",
       "      <th>296</th>\n",
       "      <td>0</td>\n",
       "    </tr>\n",
       "    <tr>\n",
       "      <th>297</th>\n",
       "      <td>0</td>\n",
       "    </tr>\n",
       "    <tr>\n",
       "      <th>298</th>\n",
       "      <td>0</td>\n",
       "    </tr>\n",
       "    <tr>\n",
       "      <th>299</th>\n",
       "      <td>0</td>\n",
       "    </tr>\n",
       "    <tr>\n",
       "      <th>300</th>\n",
       "      <td>0</td>\n",
       "    </tr>\n",
       "  </tbody>\n",
       "</table>\n",
       "<p>301 rows × 1 columns</p>\n",
       "</div>"
      ],
      "text/plain": [
       "     Dueño\n",
       "0        0\n",
       "1        0\n",
       "2        0\n",
       "3        0\n",
       "4        0\n",
       "..     ...\n",
       "296      0\n",
       "297      0\n",
       "298      0\n",
       "299      0\n",
       "300      0\n",
       "\n",
       "[301 rows x 1 columns]"
      ]
     },
     "execution_count": 156,
     "metadata": {},
     "output_type": "execute_result"
    }
   ],
   "source": [
    "Datos_Carros[['Dueño']].head(303)"
   ]
  },
  {
   "cell_type": "markdown",
   "id": "e207b812-ae03-40f2-aaf1-26cc584a6068",
   "metadata": {},
   "source": [
    "# 4. Dividir el dataset en Train y Test para evaluar correctamente el modelo.  "
   ]
  },
  {
   "cell_type": "code",
   "execution_count": 227,
   "id": "91603d4a-f875-4b0d-b430-9beed208a4e2",
   "metadata": {},
   "outputs": [],
   "source": [
    "# Train (75%) - Test (25%).  \n",
    "X = Datos_Carros.drop('Tipo_Vendedor',axis=1)\n",
    "Y = Datos_Carros['Tipo_Vendedor']\n",
    "\n",
    "X_train, X_test, Y_train, Y_test = train_test_split(X,Y, test_size=0.25, stratify=Y,random_state=0)\n",
    "\n",
    "X_train = pd.get_dummies(X_train, drop_first=True)\n",
    "Y_train = pd.get_dummies(Y_train, drop_first=True)\n",
    "X_test = pd.get_dummies(X_test, drop_first=True)"
   ]
  },
  {
   "cell_type": "code",
   "execution_count": 197,
   "id": "cb051c91-fba5-4a7b-9bea-52b83f924798",
   "metadata": {},
   "outputs": [
    {
     "name": "stdout",
     "output_type": "stream",
     "text": [
      "      Año  Precio_Venta  Precio_Actual  Kilometraje  Dueño  Marca_Activa 4g  \\\n",
      "154  2014          0.50          0.880         8000      0            False   \n",
      "287  2015          5.75          7.500        44000      0            False   \n",
      "249  2016          5.25          7.600        17000      0            False   \n",
      "193  2013          0.20          0.650        24000      1            False   \n",
      "198  2011          0.15          0.570        35000      1            False   \n",
      "..    ...           ...            ...          ...    ...              ...   \n",
      "73   2011          2.65          5.710        43000      0            False   \n",
      "126  2017          0.90          0.950         1300      0            False   \n",
      "281  2006          2.10          7.600        50456      0            False   \n",
      "14   2009          2.25          7.210        77427      0            False   \n",
      "194  2008          0.20          0.787        50000      0            False   \n",
      "\n",
      "     Marca_Bajaj  ct 100  Marca_Bajaj Avenger 150 street  \\\n",
      "154                False                           False   \n",
      "287                False                           False   \n",
      "249                False                           False   \n",
      "193                False                           False   \n",
      "198                False                           False   \n",
      "..                   ...                             ...   \n",
      "73                 False                           False   \n",
      "126                False                           False   \n",
      "281                False                           False   \n",
      "14                 False                           False   \n",
      "194                False                           False   \n",
      "\n",
      "     Marca_Bajaj Avenger 220  Marca_Bajaj Avenger 220 dtsi  ...  \\\n",
      "154                    False                         False  ...   \n",
      "287                    False                         False  ...   \n",
      "249                    False                         False  ...   \n",
      "193                    False                         False  ...   \n",
      "198                    False                         False  ...   \n",
      "..                       ...                           ...  ...   \n",
      "73                     False                         False  ...   \n",
      "126                     True                         False  ...   \n",
      "281                    False                         False  ...   \n",
      "14                     False                         False  ...   \n",
      "194                    False                         False  ...   \n",
      "\n",
      "     Marca_s cross  Marca_swift  Marca_sx4  Marca_verna  Marca_vitara brezza  \\\n",
      "154          False        False      False        False                False   \n",
      "287          False        False      False        False                False   \n",
      "249          False        False      False        False                False   \n",
      "193          False        False      False        False                False   \n",
      "198          False        False      False        False                False   \n",
      "..             ...          ...        ...          ...                  ...   \n",
      "73           False        False      False        False                False   \n",
      "126          False        False      False        False                False   \n",
      "281          False        False      False        False                False   \n",
      "14           False        False      False        False                False   \n",
      "194          False        False      False        False                False   \n",
      "\n",
      "     Marca_wagon r  Marca_xcent  Tipo_Combustible_Diesel  \\\n",
      "154          False        False                    False   \n",
      "287          False        False                    False   \n",
      "249          False        False                    False   \n",
      "193          False        False                    False   \n",
      "198          False        False                    False   \n",
      "..             ...          ...                      ...   \n",
      "73           False        False                    False   \n",
      "126          False        False                    False   \n",
      "281          False        False                    False   \n",
      "14           False        False                    False   \n",
      "194          False        False                    False   \n",
      "\n",
      "     Tipo_Combustible_Petrol  Transmision_Manual  \n",
      "154                     True                True  \n",
      "287                     True               False  \n",
      "249                     True                True  \n",
      "193                     True                True  \n",
      "198                     True                True  \n",
      "..                       ...                 ...  \n",
      "73                      True                True  \n",
      "126                     True                True  \n",
      "281                     True                True  \n",
      "14                      True                True  \n",
      "194                     True                True  \n",
      "\n",
      "[225 rows x 90 columns]\n"
     ]
    }
   ],
   "source": [
    "print(X_train)"
   ]
  },
  {
   "cell_type": "code",
   "execution_count": 199,
   "id": "879efc29-cfac-401d-bb3b-a10bf30f9605",
   "metadata": {},
   "outputs": [
    {
     "name": "stdout",
     "output_type": "stream",
     "text": [
      "     Individual\n",
      "154        True\n",
      "287       False\n",
      "249       False\n",
      "193        True\n",
      "198        True\n",
      "..          ...\n",
      "73        False\n",
      "126        True\n",
      "281       False\n",
      "14        False\n",
      "194        True\n",
      "\n",
      "[225 rows x 1 columns]\n"
     ]
    }
   ],
   "source": [
    "print(Y_train)"
   ]
  },
  {
   "cell_type": "code",
   "execution_count": 201,
   "id": "823af960-f55f-4939-82f5-969c624eb52d",
   "metadata": {},
   "outputs": [],
   "source": [
    "X_test = X_test.reindex(columns=X_train.columns, fill_value=0)"
   ]
  },
  {
   "cell_type": "markdown",
   "id": "ff4b6396-f0b1-47bf-a0c8-13a7b19c7de1",
   "metadata": {},
   "source": [
    "# 5. Entrenar el modelo configurando los diferentes hiperparámetros. "
   ]
  },
  {
   "cell_type": "code",
   "execution_count": 203,
   "id": "a051aaac-8b7b-48b3-8752-7b0fd4b5faa8",
   "metadata": {},
   "outputs": [],
   "source": [
    "#Construcción del modelo de Regresión Lineal.\n",
    "modelo_regresion_lineal = LinearRegression()\n",
    "modelo_regresion_lineal.fit (X_train , Y_train)\n",
    "\n",
    "#Creación de modelo de predicción.  \n",
    "Prediccion = modelo_regresion_lineal.predict(X_test)\n",
    "Prediccion_clases = [1 if prob >= 0.5 else 0 for prob in Prediccion]"
   ]
  },
  {
   "cell_type": "code",
   "execution_count": 205,
   "id": "20fdb824-83c2-4fd1-89bf-b964173da89f",
   "metadata": {},
   "outputs": [
    {
     "name": "stdout",
     "output_type": "stream",
     "text": [
      "171    Individual\n",
      "118    Individual\n",
      "221        Dealer\n",
      "83         Dealer\n",
      "148    Individual\n",
      "          ...    \n",
      "239        Dealer\n",
      "164    Individual\n",
      "62         Dealer\n",
      "179    Individual\n",
      "71         Dealer\n",
      "Name: Tipo_Vendedor, Length: 76, dtype: object\n"
     ]
    }
   ],
   "source": [
    "print(Y_test)"
   ]
  },
  {
   "cell_type": "code",
   "execution_count": 210,
   "id": "2d4f8b74-6d73-4b4c-ab62-4dc2adbf90d9",
   "metadata": {},
   "outputs": [
    {
     "name": "stdout",
     "output_type": "stream",
     "text": [
      "[1, 1, 0, 0, 1, 1, 0, 0, 0, 0, 0, 1, 1, 1, 0, 1, 0, 1, 1, 0, 0, 0, 1, 1, 0, 1, 0, 0, 1, 1, 0, 1, 0, 0, 0, 1, 0, 0, 0, 1, 0, 0, 1, 1, 0, 0, 0, 0, 0, 0, 1, 0, 1, 0, 0, 0, 0, 0, 0, 1, 0, 1, 1, 0, 0, 1, 0, 0, 1, 0, 0, 0, 1, 0, 1, 0]\n"
     ]
    }
   ],
   "source": [
    "print(Prediccion_clases)"
   ]
  },
  {
   "cell_type": "markdown",
   "id": "4d397844-9621-4cdc-92ae-e7237cf9d06f",
   "metadata": {},
   "source": [
    "## 6. Evaluar el desempeño del modelo en el conjunto de Test con métricas como presición, recall, F1-score, etc."
   ]
  },
  {
   "cell_type": "code",
   "execution_count": 223,
   "id": "c89a6183-e993-4b8e-bb1a-d3f3a2aa8a00",
   "metadata": {},
   "outputs": [
    {
     "name": "stdout",
     "output_type": "stream",
     "text": [
      "              precision    recall  f1-score   support\n",
      "\n",
      "      Dealer       0.14      0.08      0.10        49\n",
      "  Individual       0.04      0.07      0.05        27\n",
      "\n",
      "    accuracy                           0.08        76\n",
      "   macro avg       0.09      0.08      0.08        76\n",
      "weighted avg       0.10      0.08      0.09        76\n",
      "\n"
     ]
    }
   ],
   "source": [
    "from sklearn.metrics import classification_report\n",
    "\n",
    "Etiquetas = {0:'Individual',1:'Dealer'}\n",
    "Prediccion_clases_texto = [Etiquetas[pred] for pred in Prediccion_clases]\n",
    "\n",
    "print(classification_report(Y_test,Prediccion_clases_texto))"
   ]
  },
  {
   "cell_type": "markdown",
   "id": "6b77319c-1097-44cf-b355-149728ab98c8",
   "metadata": {},
   "source": [
    "## 7. Realizar las diferentes graficas que permitan visualizar los resultados del modelo.  "
   ]
  },
  {
   "cell_type": "code",
   "execution_count": 234,
   "id": "2bbd37e4-93f0-41ac-8b50-62c58ab08193",
   "metadata": {},
   "outputs": [
    {
     "data": {
      "image/png": "[encoded data removed]",
      "text/plain": [
       "<Figure size 640x480 with 2 Axes>"
      ]
     },
     "metadata": {},
     "output_type": "display_data"
    }
   ],
   "source": [
    "from sklearn import metrics\n",
    "\n",
    "cm=confusion_matrix(Y_test,Prediccion_clases_texto)\n",
    "disp=metrics.ConfusionMatrixDisplay(confusion_matrix=cm)\n",
    "disp.plot()\n",
    "plt.title('Matriz de Confusión Venta de Carros.')\n",
    "plt.show()"
   ]
  },
  {
   "cell_type": "code",
   "execution_count": 242,
   "id": "9d634a4e-34b9-4c01-ac47-75a6185a20de",
   "metadata": {},
   "outputs": [
    {
     "data": {
      "image/png": "[encoded data removed]",
      "text/plain": [
       "<Figure size 640x480 with 1 Axes>"
      ]
     },
     "metadata": {},
     "output_type": "display_data"
    }
   ],
   "source": [
    "from sklearn.preprocessing import LabelEncoder\n",
    "from sklearn.metrics import RocCurveDisplay\n",
    "import matplotlib.pyplot as plt\n",
    "\n",
    "# Crear el codificador y ajustarlo a Y_test\n",
    "le = LabelEncoder()\n",
    "Y_test_encoded = le.fit_transform(Y_test)  # Esto convertirá 'Dealer' a 1 y 'Individual' a 0\n",
    "\n",
    "# Crear la curva ROC\n",
    "RocCurveDisplay.from_predictions(Y_test_encoded, Prediccion_clases)\n",
    "plt.show()"
   ]
  },
  {
   "cell_type": "markdown",
   "id": "c8fe8d30-6a20-4d2c-9d52-ffcc69bbdd2d",
   "metadata": {},
   "source": [
    "## 8. Interpretar, analizar y documentar los resultados obtenidos. "
   ]
  },
  {
   "cell_type": "markdown",
   "id": "e3fcd6d2-9190-4a8f-853b-069445d48609",
   "metadata": {},
   "source": [
    "En cuanto al desempeño del modelo se puedes afirmar lo siguiente:\n",
    "\n",
    "* Presición: El 14% o 0.14 como se muestra en el modelo de desempeño, conforma que solo este porcentaje de ventas realizadas por un vendedor propio del concesionario.\n",
    "* Recall: En el modelo de desempeño indica que el modelo identico corresponde a un 0.07 o 7% de las ventas son con el dueño directamente.\n",
    "* F1-score: Dentro de este item, la puntuacion de la venta de carros es de 0.10 o 10%, indicando un balance entre precision y recall.\n",
    "\n",
    "Matriz de Confusión:\n",
    "El modelo tiene un rendimiento bastante sólido, pero hay margen de mejora, especialmente en la exhaustividad, ya que el 30% de los casos positivos reales no se están detectando. Podrías considerar ajustar el umbral de clasificación o explorar técnicas adicionales para mejorar el recall\n",
    "\n",
    "Curva de Presición: Para la curva de presición en AUC corresponde a un 0.92 o 92% de los datos suministrados son datos correctos. "
   ]
  },
  {
   "cell_type": "code",
   "execution_count": null,
   "id": "7267d73a-d631-4e9a-985e-80de8914d3ab",
   "metadata": {},
   "outputs": [],
   "source": []
  }
 ],
 "metadata": {
  "kernelspec": {
   "display_name": "Python 3 (ipykernel)",
   "language": "python",
   "name": "python3"
  },
  "language_info": {
   "codemirror_mode": {
    "name": "ipython",
    "version": 3
   },
   "file_extension": ".py",
   "mimetype": "text/x-python",
   "name": "python",
   "nbconvert_exporter": "python",
   "pygments_lexer": "ipython3",
   "version": "3.12.4"
  }
 },
 "nbformat": 4,
 "nbformat_minor": 5
}
