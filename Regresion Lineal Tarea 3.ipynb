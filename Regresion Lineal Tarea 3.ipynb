{
 "cells": [
  {
   "cell_type": "markdown",
   "id": "eb7bd45a-6dca-4503-9b0e-a33854a82843",
   "metadata": {},
   "source": [
    "## **UNAD** \n",
    "## **Tarea 3** - **Analisis de datos.**\n",
    "## **Algoritmos de Aprendizaje Supervisado.**\n",
    "## Grupo Colaborativo 202016908A_1704. "
   ]
  },
  {
   "cell_type": "markdown",
   "id": "89313b7d-c5fd-4995-81fd-84e9289e9c66",
   "metadata": {},
   "source": [
    "**Regresión Lineal Dataset Carros.**"
   ]
  },
  {
   "cell_type": "markdown",
   "id": "1211f957-e91a-476f-8936-773f0d6feed8",
   "metadata": {},
   "source": [
    "## Pasos de la Actividad:\n",
    "1. Realizar un análisis exploratorio de los datos para identificar\n",
    "relaciones entre variables, valores atípicos, tendencias, etc.\n",
    "2. Preprocesar los datos limpiándolos, tratando valores faltantes y\n",
    "transformándolos según sea necesario.\n",
    "3. Seleccionar las características más relevantes para entrenar el \n",
    "modelo utilizando selección de características.\n",
    "4. Dividir el dataset en Train y Test para evaluar correctamente el modelo.\n",
    "5. Entrenar el modelo configurando los diferentes hiperparámetros.\n",
    "6. Evaluar el desempeño del modelo en el conjunto de Test con métricas como precisión, recall, F1-score, etc.\n",
    "7. Realizar las diferentes gráficas que permitan visualizar los resultados del modelo.\n",
    "8. Interpretar, analizar y documentar los resultados obtenidos.\n",
    "9.  Crear una cuenta en GitHub y cargar los códigos de los modelos\n",
    "diseñados https://github.com/"
   ]
  },
  {
   "cell_type": "markdown",
   "id": "db9fc034-d5ca-46eb-82c2-0faeab1900ec",
   "metadata": {},
   "source": [
    "# 1. Realizar un análisis exploratorio de los datos para identificar relaciones entre variables, valores atípicos, tendencias, etc."
   ]
  },
  {
   "cell_type": "code",
   "execution_count": 243,
   "id": "2743c005-818f-4d01-bde4-aca3fa02e534",
   "metadata": {},
   "outputs": [],
   "source": [
    "#Cargue de librerias.  \n",
    "\n",
    "import pandas as pd \n",
    "import numpy as np \n",
    "import seaborn as sns\n",
    "import matplotlib.pyplot as plt\n",
    "\n",
    "from sklearn.model_selection import train_test_split\n",
    "from sklearn.linear_model import LinearRegression\n",
    "from sklearn.metrics import classification_report, confusion_matrix"
   ]
  },
  {
   "cell_type": "code",
   "execution_count": 238,
   "id": "8cfe1e3c-379a-4f6f-b31c-c3ab8d0bd5db",
   "metadata": {},
   "outputs": [],
   "source": [
    "Datos_Enfermedades_Cardiacas = pd.read_csv('C:/Users/sopor/OneDrive - Universidad Nacional Abierta y a Distancia/ANALISIS DE DATOS/Entrega 3/Dataset/Enfermedades_Cardiacas_UCI_Cleveland.csv')"
   ]
  },
  {
   "cell_type": "code",
   "execution_count": 240,
   "id": "c258954c-774b-488c-be19-ca63c8bf348c",
   "metadata": {},
   "outputs": [
    {
     "data": {
      "text/html": [
       "<div>\n",
       "<style scoped>\n",
       "    .dataframe tbody tr th:only-of-type {\n",
       "        vertical-align: middle;\n",
       "    }\n",
       "\n",
       "    .dataframe tbody tr th {\n",
       "        vertical-align: top;\n",
       "    }\n",
       "\n",
       "    .dataframe thead th {\n",
       "        text-align: right;\n",
       "    }\n",
       "</style>\n",
       "<table border=\"1\" class=\"dataframe\">\n",
       "  <thead>\n",
       "    <tr style=\"text-align: right;\">\n",
       "      <th></th>\n",
       "      <th>age</th>\n",
       "      <th>sex</th>\n",
       "      <th>cp</th>\n",
       "      <th>trestbps</th>\n",
       "      <th>chol</th>\n",
       "      <th>fbs</th>\n",
       "      <th>restecg</th>\n",
       "      <th>thalach</th>\n",
       "      <th>exang</th>\n",
       "      <th>oldpeak</th>\n",
       "      <th>slope</th>\n",
       "      <th>ca</th>\n",
       "      <th>thal</th>\n",
       "      <th>condition</th>\n",
       "    </tr>\n",
       "  </thead>\n",
       "  <tbody>\n",
       "    <tr>\n",
       "      <th>0</th>\n",
       "      <td>69</td>\n",
       "      <td>1</td>\n",
       "      <td>0</td>\n",
       "      <td>160</td>\n",
       "      <td>234</td>\n",
       "      <td>1</td>\n",
       "      <td>2</td>\n",
       "      <td>131</td>\n",
       "      <td>0</td>\n",
       "      <td>0.1</td>\n",
       "      <td>1</td>\n",
       "      <td>1</td>\n",
       "      <td>0</td>\n",
       "      <td>0</td>\n",
       "    </tr>\n",
       "    <tr>\n",
       "      <th>1</th>\n",
       "      <td>69</td>\n",
       "      <td>0</td>\n",
       "      <td>0</td>\n",
       "      <td>140</td>\n",
       "      <td>239</td>\n",
       "      <td>0</td>\n",
       "      <td>0</td>\n",
       "      <td>151</td>\n",
       "      <td>0</td>\n",
       "      <td>1.8</td>\n",
       "      <td>0</td>\n",
       "      <td>2</td>\n",
       "      <td>0</td>\n",
       "      <td>0</td>\n",
       "    </tr>\n",
       "    <tr>\n",
       "      <th>2</th>\n",
       "      <td>66</td>\n",
       "      <td>0</td>\n",
       "      <td>0</td>\n",
       "      <td>150</td>\n",
       "      <td>226</td>\n",
       "      <td>0</td>\n",
       "      <td>0</td>\n",
       "      <td>114</td>\n",
       "      <td>0</td>\n",
       "      <td>2.6</td>\n",
       "      <td>2</td>\n",
       "      <td>0</td>\n",
       "      <td>0</td>\n",
       "      <td>0</td>\n",
       "    </tr>\n",
       "    <tr>\n",
       "      <th>3</th>\n",
       "      <td>65</td>\n",
       "      <td>1</td>\n",
       "      <td>0</td>\n",
       "      <td>138</td>\n",
       "      <td>282</td>\n",
       "      <td>1</td>\n",
       "      <td>2</td>\n",
       "      <td>174</td>\n",
       "      <td>0</td>\n",
       "      <td>1.4</td>\n",
       "      <td>1</td>\n",
       "      <td>1</td>\n",
       "      <td>0</td>\n",
       "      <td>1</td>\n",
       "    </tr>\n",
       "    <tr>\n",
       "      <th>4</th>\n",
       "      <td>64</td>\n",
       "      <td>1</td>\n",
       "      <td>0</td>\n",
       "      <td>110</td>\n",
       "      <td>211</td>\n",
       "      <td>0</td>\n",
       "      <td>2</td>\n",
       "      <td>144</td>\n",
       "      <td>1</td>\n",
       "      <td>1.8</td>\n",
       "      <td>1</td>\n",
       "      <td>0</td>\n",
       "      <td>0</td>\n",
       "      <td>0</td>\n",
       "    </tr>\n",
       "    <tr>\n",
       "      <th>...</th>\n",
       "      <td>...</td>\n",
       "      <td>...</td>\n",
       "      <td>...</td>\n",
       "      <td>...</td>\n",
       "      <td>...</td>\n",
       "      <td>...</td>\n",
       "      <td>...</td>\n",
       "      <td>...</td>\n",
       "      <td>...</td>\n",
       "      <td>...</td>\n",
       "      <td>...</td>\n",
       "      <td>...</td>\n",
       "      <td>...</td>\n",
       "      <td>...</td>\n",
       "    </tr>\n",
       "    <tr>\n",
       "      <th>292</th>\n",
       "      <td>40</td>\n",
       "      <td>1</td>\n",
       "      <td>3</td>\n",
       "      <td>152</td>\n",
       "      <td>223</td>\n",
       "      <td>0</td>\n",
       "      <td>0</td>\n",
       "      <td>181</td>\n",
       "      <td>0</td>\n",
       "      <td>0.0</td>\n",
       "      <td>0</td>\n",
       "      <td>0</td>\n",
       "      <td>2</td>\n",
       "      <td>1</td>\n",
       "    </tr>\n",
       "    <tr>\n",
       "      <th>293</th>\n",
       "      <td>39</td>\n",
       "      <td>1</td>\n",
       "      <td>3</td>\n",
       "      <td>118</td>\n",
       "      <td>219</td>\n",
       "      <td>0</td>\n",
       "      <td>0</td>\n",
       "      <td>140</td>\n",
       "      <td>0</td>\n",
       "      <td>1.2</td>\n",
       "      <td>1</td>\n",
       "      <td>0</td>\n",
       "      <td>2</td>\n",
       "      <td>1</td>\n",
       "    </tr>\n",
       "    <tr>\n",
       "      <th>294</th>\n",
       "      <td>35</td>\n",
       "      <td>1</td>\n",
       "      <td>3</td>\n",
       "      <td>120</td>\n",
       "      <td>198</td>\n",
       "      <td>0</td>\n",
       "      <td>0</td>\n",
       "      <td>130</td>\n",
       "      <td>1</td>\n",
       "      <td>1.6</td>\n",
       "      <td>1</td>\n",
       "      <td>0</td>\n",
       "      <td>2</td>\n",
       "      <td>1</td>\n",
       "    </tr>\n",
       "    <tr>\n",
       "      <th>295</th>\n",
       "      <td>35</td>\n",
       "      <td>0</td>\n",
       "      <td>3</td>\n",
       "      <td>138</td>\n",
       "      <td>183</td>\n",
       "      <td>0</td>\n",
       "      <td>0</td>\n",
       "      <td>182</td>\n",
       "      <td>0</td>\n",
       "      <td>1.4</td>\n",
       "      <td>0</td>\n",
       "      <td>0</td>\n",
       "      <td>0</td>\n",
       "      <td>0</td>\n",
       "    </tr>\n",
       "    <tr>\n",
       "      <th>296</th>\n",
       "      <td>35</td>\n",
       "      <td>1</td>\n",
       "      <td>3</td>\n",
       "      <td>126</td>\n",
       "      <td>282</td>\n",
       "      <td>0</td>\n",
       "      <td>2</td>\n",
       "      <td>156</td>\n",
       "      <td>1</td>\n",
       "      <td>0.0</td>\n",
       "      <td>0</td>\n",
       "      <td>0</td>\n",
       "      <td>2</td>\n",
       "      <td>1</td>\n",
       "    </tr>\n",
       "  </tbody>\n",
       "</table>\n",
       "<p>297 rows × 14 columns</p>\n",
       "</div>"
      ],
      "text/plain": [
       "     age  sex  cp  trestbps  chol  fbs  restecg  thalach  exang  oldpeak  \\\n",
       "0     69    1   0       160   234    1        2      131      0      0.1   \n",
       "1     69    0   0       140   239    0        0      151      0      1.8   \n",
       "2     66    0   0       150   226    0        0      114      0      2.6   \n",
       "3     65    1   0       138   282    1        2      174      0      1.4   \n",
       "4     64    1   0       110   211    0        2      144      1      1.8   \n",
       "..   ...  ...  ..       ...   ...  ...      ...      ...    ...      ...   \n",
       "292   40    1   3       152   223    0        0      181      0      0.0   \n",
       "293   39    1   3       118   219    0        0      140      0      1.2   \n",
       "294   35    1   3       120   198    0        0      130      1      1.6   \n",
       "295   35    0   3       138   183    0        0      182      0      1.4   \n",
       "296   35    1   3       126   282    0        2      156      1      0.0   \n",
       "\n",
       "     slope  ca  thal  condition  \n",
       "0        1   1     0          0  \n",
       "1        0   2     0          0  \n",
       "2        2   0     0          0  \n",
       "3        1   1     0          1  \n",
       "4        1   0     0          0  \n",
       "..     ...  ..   ...        ...  \n",
       "292      0   0     2          1  \n",
       "293      1   0     2          1  \n",
       "294      1   0     2          1  \n",
       "295      0   0     0          0  \n",
       "296      0   0     2          1  \n",
       "\n",
       "[297 rows x 14 columns]"
      ]
     },
     "execution_count": 240,
     "metadata": {},
     "output_type": "execute_result"
    }
   ],
   "source": [
    "# Datos en Python para el EDA. \n",
    "Datos_Enfermedades_Cardiacas.head(303)"
   ]
  },
  {
   "cell_type": "code",
   "execution_count": 165,
   "id": "8cf8571e-d1df-4c95-b3d3-d4b9013232a7",
   "metadata": {},
   "outputs": [
    {
     "data": {
      "text/plain": [
       "Text(0.5, 1.0, 'Identificación de los Datos Faltantes y Atipicos Para Datos_Enfermedades_Cardiacas.')"
      ]
     },
     "execution_count": 165,
     "metadata": {},
     "output_type": "execute_result"
    },
    {
     "data": {
      "image/png": "[encoded data removed]",
      "text/plain": [
       "<Figure size 700x400 with 1 Axes>"
      ]
     },
     "metadata": {},
     "output_type": "display_data"
    }
   ],
   "source": [
    "#Datos Faltantes y Atipicos Datos Enfermedades Cardiacas. \n",
    "plt.figure(figsize=(7, 4))\n",
    "sns.boxplot(x=Datos_Enfermedades_Cardiacas['age'])\n",
    "plt.title('Identificación de los Datos Faltantes y Atipicos Para Datos_Enfermedades_Cardiacas.', fontsize=11)"
   ]
  },
  {
   "cell_type": "code",
   "execution_count": 167,
   "id": "bc8258dd-cffd-452e-b3c0-52488b8c1f06",
   "metadata": {},
   "outputs": [
    {
     "data": {
      "image/png": "[encoded data removed]",
      "text/plain": [
       "<Figure size 1000x600 with 1 Axes>"
      ]
     },
     "metadata": {},
     "output_type": "display_data"
    }
   ],
   "source": [
    "import pandas as pd\n",
    "import matplotlib.pyplot as plt\n",
    "\n",
    "# Cargar el dataset\n",
    "Datos_Enfermedades_Cardiacas = pd.read_csv('C:/Users/sopor/OneDrive - Universidad Nacional Abierta y a Distancia/ANALISIS DE DATOS/Entrega 3/Dataset/Enfermedades_Cardiacas_UCI_Cleveland.csv')\n",
    "\n",
    "# Contar los valores en la columna 'sex'\n",
    "genero = Datos_Enfermedades_Cardiacas['sex'].value_counts()\n",
    "\n",
    "# Configuración y creación del gráfico\n",
    "plt.figure(figsize=(10, 6))\n",
    "plt.bar(genero.index, genero.values, color=['skyblue', 'lightgreen'])\n",
    "\n",
    "plt.xlabel('Género', fontsize=12)\n",
    "plt.ylabel('Cantidad', fontsize=12)\n",
    "plt.title('Distribución de Género de pacientes con Enfermedades Cardiacas.', fontsize=15)\n",
    "plt.xticks(ticks=[0, 1], labels=[\"Mujer\", \"Hombre\"])\n",
    "\n",
    "for i, valor in enumerate(genero.values):\n",
    "    plt.annotate(str(valor), xy=(genero.index[i], valor), ha='center', va='bottom', fontsize=12)\n",
    "    \n",
    "# Mostrar el gráfico\n",
    "plt.show()\n"
   ]
  },
  {
   "cell_type": "markdown",
   "id": "d00ad00b-97b7-4bbc-9666-1a3f17ba695c",
   "metadata": {},
   "source": [
    "# 2. Preprocesar los datos limpiándolos, tratando valores faltantes y transformándolos según sea necesario."
   ]
  },
  {
   "cell_type": "code",
   "execution_count": 170,
   "id": "c7e07416-ff3e-4ec8-9fef-c5989a6b6a6c",
   "metadata": {},
   "outputs": [
    {
     "name": "stdout",
     "output_type": "stream",
     "text": [
      "Numero de Registros con cero en Edad:  0\n",
      "Numero de Registros con cero en Sexo:  96\n",
      "Numero de Registros con cero en Dolor de Pecho (cp):  23\n",
      "Numero de Registros con cero en Presion Arterial en Reposo (trestbps):  0\n",
      "Numero de Registros con cero en Colesterol (chol):  0\n",
      "Numero de Registros con cero en Azúcar en Ayunas (fbs):  254\n",
      "Numero de Registros con cero en ECG en Reposo (restecg):  147\n",
      "Numero de Registros con cero en Frecuencia Cardiaca Máxima (thalach):  0\n",
      "Numero de Registros con cero en Angina Inducida (exang):  200\n",
      "Numero de Registros con cero en ST (oldpeak):  96\n",
      "Numero de Registros con cero en Pendiente ST (slope):  139\n",
      "Numero de Registros con cero en Vasos Principales (ca):  174\n",
      "Numero de Registros con cero en Talasemia (thal):  164\n",
      "Numero de Registros con cero en Condición Cardíaca (condition):  160\n"
     ]
    }
   ],
   "source": [
    "#Revision de datos faltantes.  \n",
    "\n",
    "print(\"Numero de Registros con cero en Edad: \", Datos_Enfermedades_Cardiacas['age'].isin([0]).sum())\n",
    "print(\"Numero de Registros con cero en Sexo: \", Datos_Enfermedades_Cardiacas['sex'].isin([0]).sum())\n",
    "print(\"Numero de Registros con cero en Dolor de Pecho (cp): \", Datos_Enfermedades_Cardiacas['cp'].isin([0]).sum())\n",
    "print(\"Numero de Registros con cero en Presion Arterial en Reposo (trestbps): \", Datos_Enfermedades_Cardiacas['trestbps'].isin([0]).sum())\n",
    "print(\"Numero de Registros con cero en Colesterol (chol): \", Datos_Enfermedades_Cardiacas['chol'].isin([0]).sum())\n",
    "print(\"Numero de Registros con cero en Azúcar en Ayunas (fbs): \", Datos_Enfermedades_Cardiacas['fbs'].isin([0]).sum())\n",
    "print(\"Numero de Registros con cero en ECG en Reposo (restecg): \", Datos_Enfermedades_Cardiacas['restecg'].isin([0]).sum())\n",
    "print(\"Numero de Registros con cero en Frecuencia Cardiaca Máxima (thalach): \", Datos_Enfermedades_Cardiacas['thalach'].isin([0]).sum())\n",
    "print(\"Numero de Registros con cero en Angina Inducida (exang): \", Datos_Enfermedades_Cardiacas['exang'].isin([0]).sum())\n",
    "print(\"Numero de Registros con cero en ST (oldpeak): \", Datos_Enfermedades_Cardiacas['oldpeak'].isin([0]).sum())\n",
    "print(\"Numero de Registros con cero en Pendiente ST (slope): \", Datos_Enfermedades_Cardiacas['slope'].isin([0]).sum())\n",
    "print(\"Numero de Registros con cero en Vasos Principales (ca): \", Datos_Enfermedades_Cardiacas['ca'].isin([0]).sum())\n",
    "print(\"Numero de Registros con cero en Talasemia (thal): \", Datos_Enfermedades_Cardiacas['thal'].isin([0]).sum())\n",
    "print(\"Numero de Registros con cero en Condición Cardíaca (condition): \", Datos_Enfermedades_Cardiacas['condition'].isin([0]).sum())\n"
   ]
  },
  {
   "cell_type": "code",
   "execution_count": 172,
   "id": "41d7ab09-19d7-40d2-8faf-289e0a6435dc",
   "metadata": {},
   "outputs": [],
   "source": [
    "#Proceder a imputar todos los datos en ceros con el valor medio de la columna. \n",
    "\n",
    "Datos_Enfermedades_Cardiacas['cp']=Datos_Enfermedades_Cardiacas['cp'].replace(0,Datos_Enfermedades_Cardiacas['cp'].mean())\n",
    "Datos_Enfermedades_Cardiacas['fbs']=Datos_Enfermedades_Cardiacas['fbs'].replace(0,Datos_Enfermedades_Cardiacas['fbs'].mean())\n",
    "Datos_Enfermedades_Cardiacas['restecg']=Datos_Enfermedades_Cardiacas['restecg'].replace(0,Datos_Enfermedades_Cardiacas['restecg'].mean())\n",
    "Datos_Enfermedades_Cardiacas['exang']=Datos_Enfermedades_Cardiacas['exang'].replace(0,Datos_Enfermedades_Cardiacas['exang'].mean())\n",
    "Datos_Enfermedades_Cardiacas['oldpeak']=Datos_Enfermedades_Cardiacas['oldpeak'].replace(0,Datos_Enfermedades_Cardiacas['oldpeak'].mean())\n",
    "Datos_Enfermedades_Cardiacas['slope']=Datos_Enfermedades_Cardiacas['slope'].replace(0,Datos_Enfermedades_Cardiacas['slope'].mean())\n",
    "Datos_Enfermedades_Cardiacas['ca']=Datos_Enfermedades_Cardiacas['ca'].replace(0,Datos_Enfermedades_Cardiacas['ca'].mean())\n",
    "Datos_Enfermedades_Cardiacas['thal']=Datos_Enfermedades_Cardiacas['thal'].replace(0,Datos_Enfermedades_Cardiacas['thal'].mean())"
   ]
  },
  {
   "cell_type": "code",
   "execution_count": 174,
   "id": "0623b334-dc97-46ef-904d-0766b1ede8e6",
   "metadata": {},
   "outputs": [
    {
     "name": "stdout",
     "output_type": "stream",
     "text": [
      "Numero de Registros con cero en Edad:  0\n",
      "Numero de Registros con cero en Sexo:  96\n",
      "Numero de Registros con cero en Dolor de Pecho (cp):  0\n",
      "Numero de Registros con cero en Presion Arterial en Reposo (trestbps):  0\n",
      "Numero de Registros con cero en Colesterol (chol):  0\n",
      "Numero de Registros con cero en Azúcar en Ayunas (fbs):  0\n",
      "Numero de Registros con cero en ECG en Reposo (restecg):  0\n",
      "Numero de Registros con cero en Frecuencia Cardiaca Máxima (thalach):  0\n",
      "Numero de Registros con cero en Angina Inducida (exang):  0\n",
      "Numero de Registros con cero en ST (oldpeak):  0\n",
      "Numero de Registros con cero en Pendiente ST (slope):  0\n",
      "Numero de Registros con cero en Vasos Principales (ca):  0\n",
      "Numero de Registros con cero en Talasemia (thal):  0\n",
      "Numero de Registros con cero en Condición Cardíaca (condition):  160\n"
     ]
    }
   ],
   "source": [
    "#Nueva revision de datos faltantes. \n",
    "print(\"Numero de Registros con cero en Edad: \", Datos_Enfermedades_Cardiacas['age'].isin([0]).sum())\n",
    "print(\"Numero de Registros con cero en Sexo: \", Datos_Enfermedades_Cardiacas['sex'].isin([0]).sum())\n",
    "print(\"Numero de Registros con cero en Dolor de Pecho (cp): \", Datos_Enfermedades_Cardiacas['cp'].isin([0]).sum())\n",
    "print(\"Numero de Registros con cero en Presion Arterial en Reposo (trestbps): \", Datos_Enfermedades_Cardiacas['trestbps'].isin([0]).sum())\n",
    "print(\"Numero de Registros con cero en Colesterol (chol): \", Datos_Enfermedades_Cardiacas['chol'].isin([0]).sum())\n",
    "print(\"Numero de Registros con cero en Azúcar en Ayunas (fbs): \", Datos_Enfermedades_Cardiacas['fbs'].isin([0]).sum())\n",
    "print(\"Numero de Registros con cero en ECG en Reposo (restecg): \", Datos_Enfermedades_Cardiacas['restecg'].isin([0]).sum())\n",
    "print(\"Numero de Registros con cero en Frecuencia Cardiaca Máxima (thalach): \", Datos_Enfermedades_Cardiacas['thalach'].isin([0]).sum())\n",
    "print(\"Numero de Registros con cero en Angina Inducida (exang): \", Datos_Enfermedades_Cardiacas['exang'].isin([0]).sum())\n",
    "print(\"Numero de Registros con cero en ST (oldpeak): \", Datos_Enfermedades_Cardiacas['oldpeak'].isin([0]).sum())\n",
    "print(\"Numero de Registros con cero en Pendiente ST (slope): \", Datos_Enfermedades_Cardiacas['slope'].isin([0]).sum())\n",
    "print(\"Numero de Registros con cero en Vasos Principales (ca): \", Datos_Enfermedades_Cardiacas['ca'].isin([0]).sum())\n",
    "print(\"Numero de Registros con cero en Talasemia (thal): \", Datos_Enfermedades_Cardiacas['thal'].isin([0]).sum())\n",
    "print(\"Numero de Registros con cero en Condición Cardíaca (condition): \", Datos_Enfermedades_Cardiacas['condition'].isin([0]).sum())"
   ]
  },
  {
   "cell_type": "code",
   "execution_count": 176,
   "id": "adb8c886-56d5-45ad-9146-e8f3014ce620",
   "metadata": {},
   "outputs": [
    {
     "data": {
      "text/plain": [
       "Text(0.5, 1.0, 'Identificación de Datos Atipicos.')"
      ]
     },
     "execution_count": 176,
     "metadata": {},
     "output_type": "execute_result"
    },
    {
     "data": {
      "image/png": "[encoded data removed]",
      "text/plain": [
       "<Figure size 700x400 with 1 Axes>"
      ]
     },
     "metadata": {},
     "output_type": "display_data"
    }
   ],
   "source": [
    "#Datos Atipicos.  \n",
    "plt.figure(figsize=(7,4))\n",
    "sns.boxplot(x=Datos_Enfermedades_Cardiacas['chol'])\n",
    "plt.title('Identificación de Datos Atipicos.',fontsize=12)"
   ]
  },
  {
   "cell_type": "code",
   "execution_count": 178,
   "id": "64e4273d-cb82-4153-8590-934de22841d8",
   "metadata": {},
   "outputs": [
    {
     "name": "stdout",
     "output_type": "stream",
     "text": [
      "Los datos atipicos de la columna chol es de 199.\n"
     ]
    }
   ],
   "source": [
    "#Contador de Datos Atipicos.  \n",
    "nivel_minimo=200\n",
    "nivel_maximo=240\n",
    "Total_Atipico=((Datos_Enfermedades_Cardiacas['chol']<nivel_minimo)|(Datos_Enfermedades_Cardiacas['chol']>nivel_maximo)).sum()\n",
    "print(\"Los datos atipicos de la columna chol es de {}.\".format(Total_Atipico))"
   ]
  },
  {
   "cell_type": "code",
   "execution_count": 180,
   "id": "36ead96d-beae-43fa-b50f-a0500e5af08c",
   "metadata": {},
   "outputs": [],
   "source": [
    "#Filtrar\n",
    "Datos_Enfermedades_Cardiacas=Datos_Enfermedades_Cardiacas[(Datos_Enfermedades_Cardiacas['chol']<nivel_maximo)&(Datos_Enfermedades_Cardiacas['chol']>nivel_minimo)]"
   ]
  },
  {
   "cell_type": "code",
   "execution_count": 182,
   "id": "4e78d8ce-ee23-4d0b-a247-39dac27592f9",
   "metadata": {},
   "outputs": [
    {
     "name": "stdout",
     "output_type": "stream",
     "text": [
      "El Total de Datos Atipicos es 0.\n"
     ]
    }
   ],
   "source": [
    "#Validar si los datos fueron removidos.  \n",
    "Total_Atipico=((Datos_Enfermedades_Cardiacas['chol']<nivel_minimo)|(Datos_Enfermedades_Cardiacas['chol']>nivel_maximo)).sum()\n",
    "print(\"El Total de Datos Atipicos es {}.\".format(Total_Atipico))"
   ]
  },
  {
   "cell_type": "code",
   "execution_count": 184,
   "id": "93bc2adb-f304-4eb9-a4a8-3d1e1df10811",
   "metadata": {},
   "outputs": [
    {
     "name": "stdout",
     "output_type": "stream",
     "text": [
      "<class 'pandas.core.frame.DataFrame'>\n",
      "Index: 93 entries, 0 to 293\n",
      "Data columns (total 14 columns):\n",
      " #   Column     Non-Null Count  Dtype  \n",
      "---  ------     --------------  -----  \n",
      " 0   age        93 non-null     int64  \n",
      " 1   sex        93 non-null     int64  \n",
      " 2   cp         93 non-null     float64\n",
      " 3   trestbps   93 non-null     int64  \n",
      " 4   chol       93 non-null     int64  \n",
      " 5   fbs        93 non-null     float64\n",
      " 6   restecg    93 non-null     float64\n",
      " 7   thalach    93 non-null     int64  \n",
      " 8   exang      93 non-null     float64\n",
      " 9   oldpeak    93 non-null     float64\n",
      " 10  slope      93 non-null     float64\n",
      " 11  ca         93 non-null     float64\n",
      " 12  thal       93 non-null     float64\n",
      " 13  condition  93 non-null     int64  \n",
      "dtypes: float64(8), int64(6)\n",
      "memory usage: 10.9 KB\n"
     ]
    }
   ],
   "source": [
    "#Revision de Tipo de datos y datos faltantes.  \n",
    "Datos_Enfermedades_Cardiacas.info()"
   ]
  },
  {
   "cell_type": "markdown",
   "id": "6108a3d8-ddc3-43a0-ab48-124e7532d524",
   "metadata": {},
   "source": [
    "# 3. Seleccionar las características más relevantes para entrenar el modelo utilizando selección de características."
   ]
  },
  {
   "cell_type": "markdown",
   "id": "c326deb2-befb-4cca-8dd8-0e37659133fa",
   "metadata": {},
   "source": [
    "Caracteristicas de Interes.\n",
    "* Enfermedades Cardiacas \"EC\": Si tiene una EC o no tiene una EC. (0 es no tiene y 1 si tiene).\n",
    "* Vamos a predecir si una persona puede llegar a tener una Enfermedad Cardiaca.  "
   ]
  },
  {
   "cell_type": "markdown",
   "id": "75a6b538-0041-4e04-a8e5-51896ea5228c",
   "metadata": {},
   "source": [
    "**Personas con Enfermedades Cardiacas.**  "
   ]
  },
  {
   "cell_type": "code",
   "execution_count": 250,
   "id": "edfe7599-f865-4d92-8e75-23d895e311b6",
   "metadata": {},
   "outputs": [
    {
     "data": {
      "text/plain": [
       "condition\n",
       "0    160\n",
       "1    137\n",
       "Name: count, dtype: int64"
      ]
     },
     "execution_count": 250,
     "metadata": {},
     "output_type": "execute_result"
    }
   ],
   "source": [
    "Datos_Enfermedades_Cardiacas['condition'].value_counts()"
   ]
  },
  {
   "cell_type": "code",
   "execution_count": 248,
   "id": "3ee4cb06-4d5c-4220-90ec-e990469386ae",
   "metadata": {},
   "outputs": [
    {
     "data": {
      "text/html": [
       "<div>\n",
       "<style scoped>\n",
       "    .dataframe tbody tr th:only-of-type {\n",
       "        vertical-align: middle;\n",
       "    }\n",
       "\n",
       "    .dataframe tbody tr th {\n",
       "        vertical-align: top;\n",
       "    }\n",
       "\n",
       "    .dataframe thead th {\n",
       "        text-align: right;\n",
       "    }\n",
       "</style>\n",
       "<table border=\"1\" class=\"dataframe\">\n",
       "  <thead>\n",
       "    <tr style=\"text-align: right;\">\n",
       "      <th></th>\n",
       "      <th>condition</th>\n",
       "    </tr>\n",
       "  </thead>\n",
       "  <tbody>\n",
       "    <tr>\n",
       "      <th>0</th>\n",
       "      <td>0</td>\n",
       "    </tr>\n",
       "    <tr>\n",
       "      <th>1</th>\n",
       "      <td>0</td>\n",
       "    </tr>\n",
       "    <tr>\n",
       "      <th>2</th>\n",
       "      <td>0</td>\n",
       "    </tr>\n",
       "    <tr>\n",
       "      <th>3</th>\n",
       "      <td>1</td>\n",
       "    </tr>\n",
       "    <tr>\n",
       "      <th>4</th>\n",
       "      <td>0</td>\n",
       "    </tr>\n",
       "    <tr>\n",
       "      <th>5</th>\n",
       "      <td>0</td>\n",
       "    </tr>\n",
       "    <tr>\n",
       "      <th>6</th>\n",
       "      <td>0</td>\n",
       "    </tr>\n",
       "    <tr>\n",
       "      <th>7</th>\n",
       "      <td>1</td>\n",
       "    </tr>\n",
       "    <tr>\n",
       "      <th>8</th>\n",
       "      <td>0</td>\n",
       "    </tr>\n",
       "    <tr>\n",
       "      <th>9</th>\n",
       "      <td>0</td>\n",
       "    </tr>\n",
       "    <tr>\n",
       "      <th>10</th>\n",
       "      <td>1</td>\n",
       "    </tr>\n",
       "    <tr>\n",
       "      <th>11</th>\n",
       "      <td>1</td>\n",
       "    </tr>\n",
       "    <tr>\n",
       "      <th>12</th>\n",
       "      <td>1</td>\n",
       "    </tr>\n",
       "    <tr>\n",
       "      <th>13</th>\n",
       "      <td>0</td>\n",
       "    </tr>\n",
       "    <tr>\n",
       "      <th>14</th>\n",
       "      <td>0</td>\n",
       "    </tr>\n",
       "    <tr>\n",
       "      <th>15</th>\n",
       "      <td>0</td>\n",
       "    </tr>\n",
       "    <tr>\n",
       "      <th>16</th>\n",
       "      <td>0</td>\n",
       "    </tr>\n",
       "    <tr>\n",
       "      <th>17</th>\n",
       "      <td>0</td>\n",
       "    </tr>\n",
       "    <tr>\n",
       "      <th>18</th>\n",
       "      <td>1</td>\n",
       "    </tr>\n",
       "    <tr>\n",
       "      <th>19</th>\n",
       "      <td>0</td>\n",
       "    </tr>\n",
       "  </tbody>\n",
       "</table>\n",
       "</div>"
      ],
      "text/plain": [
       "    condition\n",
       "0           0\n",
       "1           0\n",
       "2           0\n",
       "3           1\n",
       "4           0\n",
       "5           0\n",
       "6           0\n",
       "7           1\n",
       "8           0\n",
       "9           0\n",
       "10          1\n",
       "11          1\n",
       "12          1\n",
       "13          0\n",
       "14          0\n",
       "15          0\n",
       "16          0\n",
       "17          0\n",
       "18          1\n",
       "19          0"
      ]
     },
     "execution_count": 248,
     "metadata": {},
     "output_type": "execute_result"
    }
   ],
   "source": [
    "Datos_Enfermedades_Cardiacas[['condition']].head(20)"
   ]
  },
  {
   "cell_type": "markdown",
   "id": "34bc6ee4-f384-4299-bc9e-bb33bf3b3678",
   "metadata": {},
   "source": [
    "# 4. Dividir el dataset en Train y Test para evaluar correctamente el modelo.  "
   ]
  },
  {
   "cell_type": "code",
   "execution_count": 194,
   "id": "80b6e06b-e4cd-49e5-97b7-509f4a4ecfce",
   "metadata": {},
   "outputs": [],
   "source": [
    "# Train (75%) - Test (25%).  \n",
    "X = Datos_Enfermedades_Cardiacas.drop('condition',axis=1)\n",
    "Y = Datos_Enfermedades_Cardiacas['condition']\n",
    "\n",
    "X_train, X_test, Y_train, Y_test = train_test_split(X,Y, test_size=0.25, stratify=Y,random_state=0)"
   ]
  },
  {
   "cell_type": "code",
   "execution_count": 196,
   "id": "7d986076-35eb-48d2-8778-b01f4ae3db11",
   "metadata": {},
   "outputs": [
    {
     "name": "stdout",
     "output_type": "stream",
     "text": [
      "     age  sex   cp  trestbps  chol       fbs   restecg  thalach     exang  \\\n",
      "141   44    1  2.0       120   226  0.144781  0.996633      169  0.326599   \n",
      "207   59    1  3.0       135   234  0.144781  0.996633      161  0.326599   \n",
      "289   42    1  3.0       140   226  0.144781  0.996633      178  0.326599   \n",
      "111   54    1  2.0       150   232  0.144781  2.000000      165  0.326599   \n",
      "118   51    1  2.0       100   222  0.144781  0.996633      143  1.000000   \n",
      "..   ...  ...  ...       ...   ...       ...       ...      ...       ...   \n",
      "77    68    0  2.0       120   211  0.144781  2.000000      115  0.326599   \n",
      "275   45    1  3.0       104   208  0.144781  2.000000      148  1.000000   \n",
      "208   59    1  3.0       110   239  0.144781  2.000000      142  1.000000   \n",
      "142   43    0  2.0       122   213  0.144781  0.996633      165  0.326599   \n",
      "256   52    1  3.0       108   233  1.000000  0.996633      147  0.326599   \n",
      "\n",
      "      oldpeak     slope        ca      thal  \n",
      "141  1.055556  0.602694  0.676768  0.835017  \n",
      "207  0.500000  1.000000  0.676768  2.000000  \n",
      "289  1.055556  0.602694  0.676768  0.835017  \n",
      "111  1.600000  0.602694  0.676768  2.000000  \n",
      "118  1.200000  1.000000  0.676768  0.835017  \n",
      "..        ...       ...       ...       ...  \n",
      "77   1.500000  1.000000  0.676768  0.835017  \n",
      "275  3.000000  1.000000  0.676768  0.835017  \n",
      "208  1.200000  1.000000  1.000000  2.000000  \n",
      "142  0.200000  1.000000  0.676768  0.835017  \n",
      "256  0.100000  0.602694  3.000000  2.000000  \n",
      "\n",
      "[69 rows x 13 columns]\n"
     ]
    }
   ],
   "source": [
    "print(X_train)"
   ]
  },
  {
   "cell_type": "code",
   "execution_count": 198,
   "id": "b87d7b5e-2816-4afb-99d8-6454d40add14",
   "metadata": {},
   "outputs": [
    {
     "name": "stdout",
     "output_type": "stream",
     "text": [
      "141    0\n",
      "207    0\n",
      "289    0\n",
      "111    0\n",
      "118    0\n",
      "      ..\n",
      "77     0\n",
      "275    0\n",
      "208    1\n",
      "142    0\n",
      "256    0\n",
      "Name: condition, Length: 69, dtype: int64\n"
     ]
    }
   ],
   "source": [
    "print(Y_train)"
   ]
  },
  {
   "cell_type": "markdown",
   "id": "928e9342-4487-4c2c-8045-70e380d552ae",
   "metadata": {},
   "source": [
    "# 5. Entrenar el modelo configurando los diferentes hiperparámetros. "
   ]
  },
  {
   "cell_type": "code",
   "execution_count": 253,
   "id": "57c84ae5-eed6-45e2-a41f-d8c8ae6e3f24",
   "metadata": {},
   "outputs": [],
   "source": [
    "#Construcción del modelo de Regresión Lineal.\n",
    "modelo_regresion_lineal = LinearRegression()\n",
    "modelo_regresion_lineal.fit (X_train , Y_train)\n",
    "\n",
    "#Creación de modelo de predicción.  \n",
    "Prediccion_clases = [1 if prob >= 0.5 else 0 for prob in Prediccion]\n",
    "Prediccion = modelo_regresion_lineal.predict(X_test)"
   ]
  },
  {
   "cell_type": "code",
   "execution_count": 203,
   "id": "de1c8b2c-ab5b-41f0-8a28-98904202253a",
   "metadata": {},
   "outputs": [
    {
     "name": "stdout",
     "output_type": "stream",
     "text": [
      "103    1\n",
      "214    1\n",
      "293    1\n",
      "0      0\n",
      "17     0\n",
      "66     0\n",
      "154    0\n",
      "12     1\n",
      "100    1\n",
      "4      0\n",
      "38     0\n",
      "170    1\n",
      "71     0\n",
      "97     0\n",
      "52     1\n",
      "253    0\n",
      "145    0\n",
      "90     0\n",
      "35     1\n",
      "167    1\n",
      "271    0\n",
      "219    1\n",
      "227    0\n",
      "276    0\n",
      "Name: condition, dtype: int64\n"
     ]
    }
   ],
   "source": [
    "print(Y_test)"
   ]
  },
  {
   "cell_type": "code",
   "execution_count": 205,
   "id": "1cc85851-764d-41f9-940e-789345bbaa6b",
   "metadata": {},
   "outputs": [
    {
     "name": "stdout",
     "output_type": "stream",
     "text": [
      "[1, 1, 1, 0, 0, 0, 0, 1, 1, 0, 0, 1, 0, 0, 1, 0, 0, 1, 0, 0, 0, 0, 1, 0]\n"
     ]
    }
   ],
   "source": [
    "print(Prediccion_clases)"
   ]
  },
  {
   "cell_type": "markdown",
   "id": "32feda06-463e-42b7-9549-96b13fc0e42f",
   "metadata": {},
   "source": [
    "## 6. Evaluar el desempeño del modelo en el conjunto de Test con métricas como presición, recall, F1-score, etc.  "
   ]
  },
  {
   "cell_type": "code",
   "execution_count": 208,
   "id": "e2213a23-22e1-49e9-98fe-14e7516a1b3b",
   "metadata": {},
   "outputs": [
    {
     "name": "stdout",
     "output_type": "stream",
     "text": [
      "              precision    recall  f1-score   support\n",
      "\n",
      "           0       0.80      0.86      0.83        14\n",
      "           1       0.78      0.70      0.74        10\n",
      "\n",
      "    accuracy                           0.79        24\n",
      "   macro avg       0.79      0.78      0.78        24\n",
      "weighted avg       0.79      0.79      0.79        24\n",
      "\n"
     ]
    }
   ],
   "source": [
    "from sklearn.metrics import classification_report\n",
    "\n",
    "print(classification_report(Y_test,Prediccion_clases))"
   ]
  },
  {
   "cell_type": "markdown",
   "id": "76f1be62-4dce-40e6-85a3-ed86b6c0e09e",
   "metadata": {},
   "source": [
    "## 7. Realizar las diferentes graficas que permitan visualizar los resultados del modelo.  "
   ]
  },
  {
   "cell_type": "code",
   "execution_count": 259,
   "id": "0ed5d8f0-9665-4d0c-b258-45b2c2a5043f",
   "metadata": {},
   "outputs": [
    {
     "data": {
      "image/png": "[encoded data removed]",
      "text/plain": [
       "<Figure size 640x480 with 2 Axes>"
      ]
     },
     "metadata": {},
     "output_type": "display_data"
    }
   ],
   "source": [
    "from sklearn import metrics\n",
    "\n",
    "cm=confusion_matrix(Y_test,Prediccion_clases)\n",
    "disp=metrics.ConfusionMatrixDisplay(confusion_matrix=cm, display_labels=['Verdadera', 'Predicha'])\n",
    "disp.plot()\n",
    "plt.title('Matriz de Confusión Carros.')\n",
    "plt.show()"
   ]
  },
  {
   "cell_type": "code",
   "execution_count": 219,
   "id": "1b0e22b2-df49-4b45-9f36-5ce888a26044",
   "metadata": {},
   "outputs": [
    {
     "data": {
      "image/png": "[encoded data removed]",
      "text/plain": [
       "<Figure size 640x480 with 1 Axes>"
      ]
     },
     "metadata": {},
     "output_type": "display_data"
    }
   ],
   "source": [
    "from sklearn.metrics import RocCurveDisplay\n",
    "\n",
    "RocCurveDisplay.from_predictions(Y_test, Prediccion_clases)\n",
    "plt.show()"
   ]
  },
  {
   "cell_type": "markdown",
   "id": "2d2bf41f-c2d3-4348-84cd-9dbe10857d9a",
   "metadata": {},
   "source": [
    "## 8. Interpretar, analizar y documentar los resultados obtenidos. "
   ]
  },
  {
   "cell_type": "markdown",
   "id": "c9f6e3e0-9e49-42a6-b568-f5fa755c9541",
   "metadata": {},
   "source": [
    "En cuanto al desempeño del modelo se puedes afirmar lo siguiente:  \n",
    "* Presición: El 14% o 0.14 como se muestra en el modelo de desempeño, conforma que solo este porcentaje de ventas realizadas por un vendedor propio del concesionario.\n",
    "* Recall: En el modelo de desempeño indica que el modelo identico corresponde a un 0.07 o 7% de las ventas son con el dueño directamente.\n",
    "* F1-score: Dentro de este item, la puntuacion de la venta de carros es de 0.10 o 10%, indicando un balance entre precision y recall.\n",
    "\n",
    "Matriz de Confusión:  \n",
    "El modelo tiene un rendimiento bastante sólido, pero hay margen de mejora, especialmente en la exhaustividad, ya que el 30% de los casos positivos reales no se están detectando.\r\n",
    "Podrías considerar ajustar el umbral de clasificación o explorar técnicas adicionales para mejorar el recall\n",
    "\n",
    "Curva de Presición: \n",
    "Para la curva de presición en AUC corresponde a un 0.78 o 78% de los datos suministradsr son datos correctos.  \n"
   ]
  },
  {
   "cell_type": "code",
   "execution_count": null,
   "id": "dcaa681a-6ce8-43cc-b874-b921e90c3778",
   "metadata": {},
   "outputs": [],
   "source": []
  }
 ],
 "metadata": {
  "kernelspec": {
   "display_name": "Python 3 (ipykernel)",
   "language": "python",
   "name": "python3"
  },
  "language_info": {
   "codemirror_mode": {
    "name": "ipython",
    "version": 3
   },
   "file_extension": ".py",
   "mimetype": "text/x-python",
   "name": "python",
   "nbconvert_exporter": "python",
   "pygments_lexer": "ipython3",
   "version": "3.12.4"
  }
 },
 "nbformat": 4,
 "nbformat_minor": 5
}
